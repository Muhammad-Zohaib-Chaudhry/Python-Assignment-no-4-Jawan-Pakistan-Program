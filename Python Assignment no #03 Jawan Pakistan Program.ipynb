{
 "cells": [
  {
   "cell_type": "code",
   "execution_count": 8,
   "id": "ca6837e8",
   "metadata": {},
   "outputs": [
    {
     "name": "stdout",
     "output_type": "stream",
     "text": [
      "Twinkle, twinkle, little star,\n",
      "       How I wonder what you are!\n",
      "              Up above the world so high,\n",
      "              Like a diamond in the sky.\n",
      "Twinkle, twinkle, little star,\n",
      "       How I wonder what you are!\n",
      "\n"
     ]
    }
   ],
   "source": [
    "'''\n",
    "1.\tWrite a Python program to print the following string in a specific format (see the output). \n",
    " \tTwinkle, twinkle, little star, \n",
    " \t       How I wonder what you are! \n",
    "                  Up above the world so high, \n",
    " \t              Like a diamond in the sky. \n",
    " \tTwinkle, twinkle, little star, \n",
    "           How I wonder what you are \n",
    "'''\n",
    "\n",
    "poem = [\"Twinkle, twinkle, little star,\\n\", \"       How I wonder what you are!\\n\", \"              Up above the world so high,\\n\", \"              Like a diamond in the sky.\\n\"]\n",
    "print(poem[0] + poem[1] + poem[2] + poem[3] + poem[0] + poem[1])"
   ]
  },
  {
   "cell_type": "code",
   "execution_count": null,
   "id": "698d9ffb",
   "metadata": {},
   "outputs": [],
   "source": []
  },
  {
   "cell_type": "code",
   "execution_count": 9,
   "id": "c7371c31",
   "metadata": {},
   "outputs": [
    {
     "name": "stdout",
     "output_type": "stream",
     "text": [
      "Python Version Number of Python Interpreter is:\n",
      "3.8.8 (default, Apr 13 2021, 15:08:03) [MSC v.1916 64 bit (AMD64)]\n"
     ]
    }
   ],
   "source": [
    "'''\n",
    "2.\tWrite a Python program to get the Python version you are using.\n",
    "'''\n",
    "\n",
    "import sys\n",
    "print(\"Python Version Number of Python Interpreter is:\\n\" + sys.version)"
   ]
  },
  {
   "cell_type": "code",
   "execution_count": null,
   "id": "acf06a1b",
   "metadata": {},
   "outputs": [],
   "source": []
  },
  {
   "cell_type": "code",
   "execution_count": 23,
   "id": "a89df26e",
   "metadata": {},
   "outputs": [
    {
     "name": "stdout",
     "output_type": "stream",
     "text": [
      "Current Date and Time is:\n",
      " 2021-10-24 04:49:55.388779\n"
     ]
    }
   ],
   "source": [
    "'''\n",
    "3. Write a Python program to display the current date and time.\n",
    "'''\n",
    "from datetime import datetime\n",
    "datetime = datetime.now()\n",
    "print(\"Current Date and Time is:\\n\", datetime)"
   ]
  },
  {
   "cell_type": "code",
   "execution_count": null,
   "id": "c0f722d3",
   "metadata": {},
   "outputs": [],
   "source": []
  },
  {
   "cell_type": "code",
   "execution_count": 6,
   "id": "d2bfcebe",
   "metadata": {},
   "outputs": [
    {
     "name": "stdout",
     "output_type": "stream",
     "text": [
      "Enter the radius of circle:5\n",
      "Area of circle is:  78.5675\n"
     ]
    }
   ],
   "source": [
    "'''\n",
    "4.\tWrite a Python program which accepts the radius of a circle from the user\n",
    "    and compute the area. \n",
    "'''\n",
    "\n",
    "radius = float(input(\"Enter the radius of circle:\"))\n",
    "area = 3.1427 * (radius)**2\n",
    "print(\"Area of circle is: \", area)"
   ]
  },
  {
   "cell_type": "code",
   "execution_count": null,
   "id": "4c61e341",
   "metadata": {},
   "outputs": [],
   "source": []
  },
  {
   "cell_type": "code",
   "execution_count": 7,
   "id": "3bb3337c",
   "metadata": {},
   "outputs": [
    {
     "name": "stdout",
     "output_type": "stream",
     "text": [
      "Enter user's first name: Muhammad\n",
      "Enter user's last name: Zohaib\n",
      "Zohaib Muhammad\n"
     ]
    }
   ],
   "source": [
    "'''\n",
    "5.\tWrite a Python program which accepts the user's first and last name and \n",
    "    print them in  \treverse order with a space between them. \n",
    "'''\n",
    "\n",
    "first_name = input(\"Enter user's first name: \")\n",
    "last_name = input(\"Enter user's last name: \")\n",
    "print(last_name + \" \" + first_name)"
   ]
  },
  {
   "cell_type": "code",
   "execution_count": null,
   "id": "913e79da",
   "metadata": {},
   "outputs": [],
   "source": []
  },
  {
   "cell_type": "code",
   "execution_count": 1,
   "id": "18cfe1b5",
   "metadata": {},
   "outputs": [
    {
     "name": "stdout",
     "output_type": "stream",
     "text": [
      "Enter first value: 67\n",
      "Enter second value: 89\n",
      "Sum of two values is:  156\n"
     ]
    }
   ],
   "source": [
    "'''\n",
    "6.\tWrite a python program which takes two inputs from user and print their \n",
    "addition. \n",
    "'''\n",
    "\n",
    "first_value = int(input(\"Enter first value: \"))\n",
    "second_value = int(input(\"Enter second value: \"))\n",
    "print(\"Sum of two values is: \", (first_value + second_value))"
   ]
  },
  {
   "cell_type": "code",
   "execution_count": null,
   "id": "8873630d",
   "metadata": {},
   "outputs": [],
   "source": []
  },
  {
   "cell_type": "code",
   "execution_count": 2,
   "id": "769e8bec",
   "metadata": {},
   "outputs": [
    {
     "name": "stdout",
     "output_type": "stream",
     "text": [
      "Enter marks for English: 88\n",
      "Enter marks for Urdu: 87\n",
      "Enter marks for Science: 89\n",
      "Enter marks for Islamiat: 86\n",
      "Enter marks for Mathematics: 100\n",
      "Student Got Grade A+\n"
     ]
    }
   ],
   "source": [
    "'''\n",
    "7.\tWrite a program which takes 5 inputs from user for different subject’s marks,\n",
    "    total it and generate mark sheet using grades ? \n",
    "'''\n",
    "\n",
    "english_marks = int(input(\"Enter marks for English: \"))\n",
    "urdu_marks = int(input(\"Enter marks for Urdu: \"))\n",
    "science_marks = int(input(\"Enter marks for Science: \"))\n",
    "islamiat_marks = int(input(\"Enter marks for Islamiat: \"))\n",
    "maths_marks = int(input(\"Enter marks for Mathematics: \"))\n",
    "\n",
    "total_marks = 500\n",
    "percentage = ((english_marks + urdu_marks + science_marks + islamiat_marks + maths_marks) / total_marks) * 100\n",
    "\n",
    "if percentage > 100:\n",
    "    print(\"Invalid Subjects Marks\")\n",
    "elif percentage >= 90:\n",
    "    print(\"Student Got Grade A+\")\n",
    "elif percentage >= 80:\n",
    "    print(\"Student Got Grade A\")\n",
    "elif percentage >= 70:\n",
    "    print(\"Student Got Grade B\")\n",
    "elif percentage >= 60:\n",
    "    print(\"Student Got Grade C\")\n",
    "elif percentage >= 50:\n",
    "    print(\"Student Got Grade D\")\n",
    "elif percentage >= 40:\n",
    "    print(\"Student Got Grade E\")\n",
    "elif percentage >= 33:\n",
    "    print(\"Student Passed the Exam\")\n",
    "elif percentage >= 0:\n",
    "    print(\"Student Failed the Exam\")\n",
    "else:\n",
    "    print(\"Invalid Student Marks\")"
   ]
  },
  {
   "cell_type": "code",
   "execution_count": null,
   "id": "ecf79ed8",
   "metadata": {},
   "outputs": [],
   "source": []
  },
  {
   "cell_type": "code",
   "execution_count": 4,
   "id": "c3e1fc65",
   "metadata": {},
   "outputs": [
    {
     "name": "stdout",
     "output_type": "stream",
     "text": [
      "Enter a number: 789\n",
      "The given number is Odd.\n"
     ]
    }
   ],
   "source": [
    "'''\n",
    "8.\tWrite a program which take input from user and identify that the given number\n",
    "    is even or odd? \n",
    "'''\n",
    "number = int(input(\"Enter a number: \"))\n",
    "if number % 2 == 0:\n",
    "    print(\"The given number is Even.\")\n",
    "else: \n",
    "    print(\"The given number is Odd.\")"
   ]
  },
  {
   "cell_type": "code",
   "execution_count": null,
   "id": "5dd35b0a",
   "metadata": {},
   "outputs": [],
   "source": []
  },
  {
   "cell_type": "code",
   "execution_count": 9,
   "id": "03eac27e",
   "metadata": {},
   "outputs": [
    {
     "name": "stdout",
     "output_type": "stream",
     "text": [
      "The list fruits have number of elements:  5\n"
     ]
    }
   ],
   "source": [
    "'''\n",
    "9.\tWrite a program which print the length of the list? \n",
    "'''\n",
    "\n",
    "fruits = [\"mango\", \"orange\", \"apple\", \"banana\", \"apricot\"]\n",
    "print(\"The list fruits have number of elements: \", len(fruits))"
   ]
  },
  {
   "cell_type": "code",
   "execution_count": null,
   "id": "9479459b",
   "metadata": {},
   "outputs": [],
   "source": []
  },
  {
   "cell_type": "code",
   "execution_count": 10,
   "id": "acc0226c",
   "metadata": {},
   "outputs": [
    {
     "name": "stdout",
     "output_type": "stream",
     "text": [
      "Sum of all numeric items in list numbers is:  1088\n"
     ]
    }
   ],
   "source": [
    "'''\n",
    "10.\tWrite a Python program to sum all the numeric items in a list? \n",
    "'''\n",
    "\n",
    "numbers = [45, 67, 98, 112, 766]\n",
    "sum = 0\n",
    "for number in numbers:\n",
    "    sum += number\n",
    "print(\"Sum of all numeric items in list numbers is: \", sum)    "
   ]
  },
  {
   "cell_type": "code",
   "execution_count": null,
   "id": "354f1857",
   "metadata": {},
   "outputs": [],
   "source": []
  },
  {
   "cell_type": "code",
   "execution_count": 11,
   "id": "1347ef14",
   "metadata": {},
   "outputs": [
    {
     "name": "stdout",
     "output_type": "stream",
     "text": [
      "Largest number in numeric list numbers is:  766\n"
     ]
    }
   ],
   "source": [
    "'''\n",
    "11.\tWrite a Python program to get the largest number from a numeric list. \n",
    "'''\n",
    "\n",
    "numbers = [45, 67, 98, 112, 766]\n",
    "print(\"Largest number in numeric list numbers is: \", max(numbers))"
   ]
  },
  {
   "cell_type": "code",
   "execution_count": null,
   "id": "4eb22592",
   "metadata": {},
   "outputs": [],
   "source": []
  },
  {
   "cell_type": "code",
   "execution_count": 12,
   "id": "63ea6b8f",
   "metadata": {},
   "outputs": [
    {
     "name": "stdout",
     "output_type": "stream",
     "text": [
      "Elements in list a which are less than 5 are as follows: \n",
      "1\n",
      "1\n",
      "2\n",
      "3\n"
     ]
    }
   ],
   "source": [
    "'''\n",
    "12.\tTake a list, say for example this one: \n",
    "    a = [1, 1, 2, 3, 5, 8, 13, 21, 34, 55, 89] \n",
    "    Write a program that prints out all the elements of the list that are less \n",
    "    than 5.\n",
    "'''\n",
    "\n",
    "a = [1, 1, 2, 3, 5, 8, 13, 21, 34, 55, 89]\n",
    "print(\"Elements in list a which are less than 5 are as follows: \")\n",
    "for number in a:\n",
    "    if number < 5:\n",
    "        print(number)"
   ]
  },
  {
   "cell_type": "code",
   "execution_count": null,
   "id": "87a5507e",
   "metadata": {},
   "outputs": [],
   "source": []
  }
 ],
 "metadata": {
  "kernelspec": {
   "display_name": "Python 3",
   "language": "python",
   "name": "python3"
  },
  "language_info": {
   "codemirror_mode": {
    "name": "ipython",
    "version": 3
   },
   "file_extension": ".py",
   "mimetype": "text/x-python",
   "name": "python",
   "nbconvert_exporter": "python",
   "pygments_lexer": "ipython3",
   "version": "3.8.8"
  }
 },
 "nbformat": 4,
 "nbformat_minor": 5
}
