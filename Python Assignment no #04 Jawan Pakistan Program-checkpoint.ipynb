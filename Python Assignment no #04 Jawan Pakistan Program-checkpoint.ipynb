{
 "cells": [
  {
   "cell_type": "markdown",
   "id": "25ab0000",
   "metadata": {},
   "source": [
    "#                      Assignment # 4"
   ]
  },
  {
   "cell_type": "markdown",
   "id": "d373cecd",
   "metadata": {},
   "source": [
    "1. Make a calculator using Python with addition , subtraction ,\n",
    "multiplication ,division and power."
   ]
  },
  {
   "cell_type": "code",
   "execution_count": 7,
   "id": "ab628f8f",
   "metadata": {},
   "outputs": [
    {
     "name": "stdout",
     "output_type": "stream",
     "text": [
      "Make your choice for your required Operation:\n",
      "For Addition press 1:\n",
      "For Subtraction press 2:\n",
      "For Multiplication press 3:\n",
      "For Division press 4:\n",
      "For Power press 5:\n",
      "5\n",
      "Enter first number:2\n",
      "Enter second number:3\n",
      "The Power of two numbers is: 8\n"
     ]
    }
   ],
   "source": [
    "opr = int(input(\"\"\"Make your choice for your required Operation:\n",
    "For Addition press 1:\n",
    "For Subtraction press 2:\n",
    "For Multiplication press 3:\n",
    "For Division press 4:\n",
    "For Power press 5:\n",
    "\"\"\"))\n",
    "\n",
    "num1 = int(input(\"Enter first number:\"))\n",
    "num2 = int(input(\"Enter second number:\"))\n",
    "result = 0\n",
    "if opr == 1:\n",
    "    result = num1 + num2\n",
    "    opr = \"Sum\"\n",
    "elif opr == 2:\n",
    "    result = num1 - num2\n",
    "    opr = \"Difference\"\n",
    "elif opr == 3:\n",
    "    result = num1 * num2\n",
    "    opr = \"Product\"\n",
    "elif opr == 4:\n",
    "    result = num1 / num2\n",
    "    opr = \"Division\"\n",
    "elif opr == 5:\n",
    "    result = num1 ** num2\n",
    "    opr = \"Power\"\n",
    "\n",
    "print(f\"The {opr} of two numbers is:\", result)    \n",
    "    "
   ]
  },
  {
   "cell_type": "code",
   "execution_count": null,
   "id": "d8ace08e",
   "metadata": {},
   "outputs": [],
   "source": []
  },
  {
   "cell_type": "markdown",
   "id": "17946afe",
   "metadata": {},
   "source": [
    "2. Write a program to check if there is any numeric value in list using for\n",
    "loop."
   ]
  },
  {
   "cell_type": "code",
   "execution_count": 11,
   "id": "af66ae24",
   "metadata": {},
   "outputs": [
    {
     "name": "stdout",
     "output_type": "stream",
     "text": [
      "The given list has numeric value\n"
     ]
    }
   ],
   "source": [
    "things = [\"Volley Ball\", True, 'j', 95, \"Net\"]\n",
    "for thing in things:\n",
    "    if type(thing) == int:\n",
    "        print(\"The given list has numeric value\")\n",
    "        break"
   ]
  },
  {
   "cell_type": "code",
   "execution_count": null,
   "id": "4c5e4121",
   "metadata": {},
   "outputs": [],
   "source": []
  },
  {
   "cell_type": "markdown",
   "id": "dd578e6e",
   "metadata": {},
   "source": [
    "3. Write a Python script to add a key to a dictionary."
   ]
  },
  {
   "cell_type": "code",
   "execution_count": 15,
   "id": "2401d71b",
   "metadata": {},
   "outputs": [
    {
     "name": "stdout",
     "output_type": "stream",
     "text": [
      "Enter number of phone numbers you want to add:2\n",
      "Enter name of Person:Hayat\n",
      "Enter person's Phone Number03333333333\n",
      "Enter name of Person:Abad\n",
      "Enter person's Phone Number03177777777\n",
      "{'Zohaib': '03451234567', 'Hayat': '03333333333', 'Abad': '03177777777'}\n"
     ]
    }
   ],
   "source": [
    "phone_book = {\"Zohaib\": \"03451234567\"}\n",
    "numbers_to_add = int(input(\"Enter number of phone numbers you want to add:\"))\n",
    "for i in range(numbers_to_add):\n",
    "    person_name = input(\"Enter name of Person:\")\n",
    "    person_number = input(\"Enter person's Phone Number\")\n",
    "    phone_book[person_name] = person_number\n",
    "    \n",
    "print(phone_book)    \n",
    "    "
   ]
  },
  {
   "cell_type": "code",
   "execution_count": null,
   "id": "170ca96d",
   "metadata": {},
   "outputs": [],
   "source": []
  },
  {
   "cell_type": "markdown",
   "id": "7e948bb2",
   "metadata": {},
   "source": [
    "4. Write a Python program to sum all the numeric items in a dictionary."
   ]
  },
  {
   "cell_type": "code",
   "execution_count": 17,
   "id": "5f25f733",
   "metadata": {},
   "outputs": [
    {
     "name": "stdout",
     "output_type": "stream",
     "text": [
      "The Sum of Numeric Values in list is: 160\n"
     ]
    }
   ],
   "source": [
    "dict_things = {\"Zohaib\": \"03451234567\", 'Hayat': 70, 'Abad': True, 53: 90}\n",
    "sum = 0\n",
    "for thing in dict_things.values():\n",
    "    if type(thing) == int:\n",
    "        sum += thing\n",
    "        \n",
    "print(\"The Sum of Numeric Values in list is:\", sum)        "
   ]
  },
  {
   "cell_type": "code",
   "execution_count": null,
   "id": "3b5a9417",
   "metadata": {},
   "outputs": [],
   "source": []
  },
  {
   "cell_type": "markdown",
   "id": "01650bc1",
   "metadata": {},
   "source": [
    "5. Write a program to identify duplicate values from list."
   ]
  },
  {
   "cell_type": "code",
   "execution_count": 32,
   "id": "e80776e3",
   "metadata": {},
   "outputs": [
    {
     "name": "stdout",
     "output_type": "stream",
     "text": [
      "Duplicate value in list is: Net\n",
      "Duplicate value in list is: True\n",
      "Duplicate value in list is: 95\n"
     ]
    }
   ],
   "source": [
    "things = [\"Volley Ball\",\"Net\", True, 'j', 95, 95, False, \"Net\",\"False\", True, \"ij\",]\n",
    "for i in range(len(things)):\n",
    "    for j in range(i + 1, len(things)):\n",
    "        if things[i] == things[j]:\n",
    "            print(f\"Duplicate value in list is: {things[j]}\")"
   ]
  },
  {
   "cell_type": "code",
   "execution_count": null,
   "id": "0eaf43fa",
   "metadata": {},
   "outputs": [],
   "source": []
  },
  {
   "cell_type": "markdown",
   "id": "291111d2",
   "metadata": {},
   "source": [
    "6. Write a Python script to check if a given key already exists in a\n",
    "dictionary"
   ]
  },
  {
   "cell_type": "code",
   "execution_count": 11,
   "id": "9fdc4cc9",
   "metadata": {},
   "outputs": [
    {
     "name": "stdout",
     "output_type": "stream",
     "text": [
      "Enter key of Thing: Abad\n",
      "Enter value of Thing: a\n",
      "The given key Exists in dictionary\n"
     ]
    }
   ],
   "source": [
    "dict_things = {\"Zohaib\": \"03451234567\", 76: \"Clip\", \"Hayat\": 70, \"Abad\": True, 53: 90}\n",
    "key_to_add = input(\"Enter key of Thing: \")\n",
    "value_to_add = input(\"Enter value of Thing: \")\n",
    "status = \"does not Exist\"\n",
    "for key in dict_things.keys():\n",
    "    if key == key_to_add:\n",
    "        status = \"Exists\"\n",
    "        break\n",
    "        \n",
    "print(f\"The given key {status} in dictionary\") "
   ]
  },
  {
   "cell_type": "code",
   "execution_count": null,
   "id": "5a0f8e7d",
   "metadata": {},
   "outputs": [],
   "source": []
  }
 ],
 "metadata": {
  "kernelspec": {
   "display_name": "Python 3",
   "language": "python",
   "name": "python3"
  },
  "language_info": {
   "codemirror_mode": {
    "name": "ipython",
    "version": 3
   },
   "file_extension": ".py",
   "mimetype": "text/x-python",
   "name": "python",
   "nbconvert_exporter": "python",
   "pygments_lexer": "ipython3",
   "version": "3.8.8"
  }
 },
 "nbformat": 4,
 "nbformat_minor": 5
}
